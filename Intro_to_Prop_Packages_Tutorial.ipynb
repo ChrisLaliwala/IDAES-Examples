{
 "cells": [
  {
   "cell_type": "markdown",
   "metadata": {},
   "source": [
    "# Introduction to Property Packages in IDAES"
   ]
  },
  {
   "cell_type": "code",
   "execution_count": 1,
   "metadata": {},
   "outputs": [],
   "source": [
    "# Important components from Pyomo\n",
    "from pyomo.environ import (\n",
    "    Constraint,\n",
    "    Expression,\n",
    "    Reference,\n",
    "    Param,\n",
    "    units as pyunits,\n",
    "    Var,\n",
    ")\n",
    "\n",
    "# Import IDAES cores\n",
    "from idaes.core import (\n",
    "    declare_process_block_class,\n",
    "    MaterialFlowBasis,\n",
    "    PhysicalParameterBlock,\n",
    "    StateBlockData,\n",
    "    StateBlock,\n",
    "    MaterialBalanceType,\n",
    "    EnergyBalanceType,\n",
    "    Component,\n",
    "    VaporPhase,\n",
    ")\n",
    "from idaes.core.solvers import get_solver\n",
    "from idaes.core.util.initialization import (\n",
    "    fix_state_vars,\n",
    "    revert_state_vars,\n",
    "    solve_indexed_blocks,\n",
    ")\n",
    "from idaes.core.util.model_statistics import (\n",
    "    degrees_of_freedom,\n",
    "    number_unfixed_variables,\n",
    ")\n",
    "from idaes.core.util.constants import Constants as constants\n",
    "import idaes.logger as idaeslog"
   ]
  },
  {
   "cell_type": "markdown",
   "metadata": {},
   "source": [
    "# Step 1: Define Units of Measurement"
   ]
  },
  {
   "cell_type": "code",
   "execution_count": 2,
   "metadata": {},
   "outputs": [],
   "source": [
    "units_metadata = {\n",
    "    \"time\": pyunits.s,\n",
    "    \"length\": pyunits.m,\n",
    "    \"mass\": pyunits.kg,\n",
    "    \"amount\": pyunits.mol,\n",
    "    \"temperature\": pyunits.K,\n",
    "}"
   ]
  },
  {
   "cell_type": "markdown",
   "metadata": {},
   "source": [
    "# Step 2: Define Supported Properties"
   ]
  },
  {
   "cell_type": "code",
   "execution_count": 3,
   "metadata": {},
   "outputs": [],
   "source": [
    "properties_metadata = {\n",
    "    \"flow_mol\": {\"method\": None},\n",
    "    \"mole_frac_comp\": {\"method\": None},\n",
    "    \"temperature\": {\"method\": None},\n",
    "    \"pressure\": {\"method\": None},\n",
    "    \"mw_comp\": {\"method\": None},\n",
    "    \"dens_mol\": {\"method\": None},\n",
    "    \"enth_mol\": {\"method\": \"_enth_mol\"},\n",
    "}"
   ]
  },
  {
   "cell_type": "markdown",
   "metadata": {},
   "source": [
    "# Step 3: Define Component and Phase Lists"
   ]
  },
  {
   "cell_type": "code",
   "execution_count": 4,
   "metadata": {},
   "outputs": [],
   "source": [
    "def define_components_and_phases(self):\n",
    "    # Define Component objects for all species\n",
    "    self.benzene = Component()\n",
    "    self.toluene = Component()\n",
    "    self.methane = Component()\n",
    "    self.hydrogen = Component()\n",
    "    self.diphenyl = Component()\n",
    "\n",
    "    # Define Phase objects for all phases\n",
    "    self.Vap = VaporPhase()"
   ]
  },
  {
   "cell_type": "markdown",
   "metadata": {},
   "source": [
    "# Step 4: Define Parameters\n"
   ]
  },
  {
   "cell_type": "code",
   "execution_count": 6,
   "metadata": {},
   "outputs": [],
   "source": [
    "def define_basic_parameters(self):\n",
    "    # Thermodynamic reference state\n",
    "    self.pressure_ref = Param(\n",
    "        mutable=True, default=101325, units=pyunits.Pa, doc=\"Reference pressure\"\n",
    "    )\n",
    "    self.temperature_ref = Param(\n",
    "        mutable=True, default=298.15, units=pyunits.K, doc=\"Reference temperature\"\n",
    "    )\n",
    "\n",
    "    self.mw_comp = Param(\n",
    "        self.component_list,\n",
    "        mutable=False,\n",
    "        initialize={\n",
    "            \"benzene\": 78.1136e-3,\n",
    "            \"toluene\": 92.1405e-3,\n",
    "            \"hydrogen\": 2.016e-3,\n",
    "            \"methane\": 16.043e-3,\n",
    "            \"diphenyl\": 154.212e-4,\n",
    "        },\n",
    "        units=pyunits.kg / pyunits.mol,\n",
    "        doc=\"Molecular weight\",\n",
    "    )"
   ]
  },
  {
   "cell_type": "markdown",
   "metadata": {},
   "source": [
    "### Correlation for calculating the specific enthalpy for each component"
   ]
  },
  {
   "cell_type": "markdown",
   "metadata": {},
   "source": [
    "\\begin{equation*} h_j – h_{j, ref}= A_j \\times (T-T_{ref}) + \\frac{B_j}{2}\\times (T^2-T_{ref}^2) + \\frac{C_j}{3}\\times (T^3-T_{ref}^3) + \\frac{D_j}{4}\\times (T^4-T_{ref}^4) \\end{equation*}"
   ]
  },
  {
   "cell_type": "markdown",
   "metadata": {},
   "source": [
    "where $h_{j,ref}$ is the standard heat of formation of component $j$ in the vapor phase, and $A_j$, $B_j$, $C_j$, and $D_j$ are component-specific parameters in the correlation."
   ]
  },
  {
   "cell_type": "code",
   "execution_count": 7,
   "metadata": {},
   "outputs": [],
   "source": [
    "def define_specific_heat_parameters(self):\n",
    "    # Constants for specific heat capacity, enthalpy\n",
    "    self.cp_mol_ig_comp_coeff_A = Var(\n",
    "        self.component_list,\n",
    "        initialize={\n",
    "            \"benzene\": -3.3921e1,\n",
    "            \"toluene\": -2.435e1,\n",
    "            \"hydrogen\": 2.714e1,\n",
    "            \"methane\": 1.925e1,\n",
    "            \"diphenyl\": -9.707e1,\n",
    "        },\n",
    "        units=pyunits.J / pyunits.mol / pyunits.K,\n",
    "        doc=\"Parameter A for ideal gas molar heat capacity\",\n",
    "    )\n",
    "    self.cp_mol_ig_comp_coeff_A.fix()\n",
    "\n",
    "    self.cp_mol_ig_comp_coeff_B = Var(\n",
    "        self.component_list,\n",
    "        initialize={\n",
    "            \"benzene\": 4.739e1,\n",
    "            \"toluene\": 5.125e-1,\n",
    "            \"hydrogen\": 9.274e-3,\n",
    "            \"methane\": 5.213e-2,\n",
    "            \"diphenyl\": 1.106e0,\n",
    "        },\n",
    "        units=pyunits.J / pyunits.mol / pyunits.K**2,\n",
    "        doc=\"Parameter B for ideal gas molar heat capacity\",\n",
    "    )\n",
    "    self.cp_mol_ig_comp_coeff_B.fix()\n",
    "\n",
    "    self.cp_mol_ig_comp_coeff_C = Var(\n",
    "        self.component_list,\n",
    "        initialize={\n",
    "            \"benzene\": -3.017e-4,\n",
    "            \"toluene\": -2.765e-4,\n",
    "            \"hydrogen\": -1.381e-5,\n",
    "            \"methane\": -8.855e-4,\n",
    "            \"diphenyl\": -8.855e-4,\n",
    "        },\n",
    "        units=pyunits.J / pyunits.mol / pyunits.K**3,\n",
    "        doc=\"Parameter C for ideal gas molar heat capacity\",\n",
    "    )\n",
    "    self.cp_mol_ig_comp_coeff_C.fix()\n",
    "\n",
    "    self.cp_mol_ig_comp_coeff_D = Var(\n",
    "        self.component_list,\n",
    "        initialize={\n",
    "            \"benzene\": 7.130e-8,\n",
    "            \"toluene\": 4.911e-8,\n",
    "            \"hydrogen\": 7.645e-9,\n",
    "            \"methane\": -1.132e-8,\n",
    "            \"diphenyl\": 2.790e-7,\n",
    "        },\n",
    "        units=pyunits.J / pyunits.mol / pyunits.K**4,\n",
    "        doc=\"Parameter D for ideal gas molar heat capacity\",\n",
    "    )\n",
    "    self.cp_mol_ig_comp_coeff_D.fix()\n",
    "\n",
    "    self.enth_mol_form_vap_comp_ref = Var(\n",
    "        self.component_list,\n",
    "        initialize={\n",
    "            \"benzene\": -82.9e3,\n",
    "            \"toluene\": -50.1e3,\n",
    "            \"hydrogen\": 0,\n",
    "            \"methane\": -75e3,\n",
    "            \"diphenyl\": -180e3,\n",
    "        },\n",
    "        units=pyunits.J / pyunits.mol,\n",
    "        doc=\"Standard heat of formation at reference state\",\n",
    "    )\n",
    "    self.enth_mol_form_vap_comp_ref.fix()"
   ]
  },
  {
   "cell_type": "markdown",
   "metadata": {},
   "source": [
    "## Declaring the Physical Parameter Block"
   ]
  },
  {
   "cell_type": "code",
   "execution_count": 8,
   "metadata": {},
   "outputs": [],
   "source": [
    "@declare_process_block_class(\"HDAParameterBlock\")\n",
    "class HDAParameterData(PhysicalParameterBlock):\n",
    "    CONFIG = PhysicalParameterBlock.CONFIG()\n",
    "\n",
    "    def build(self):\n",
    "        \"\"\"\n",
    "        Callable method for Block construction\n",
    "        \"\"\"\n",
    "        super(HDAParameterData, self).build()\n",
    "\n",
    "        self._state_block_class = HDAStateBlock\n",
    "\n",
    "        define_components_and_phases(self)\n",
    "        define_basic_parameters(self)\n",
    "        define_specific_heat_parameters(self)\n",
    "\n",
    "    @classmethod \n",
    "    def define_metadata(cls, obj):\n",
    "        \"\"\"\n",
    "        Define properties supported and units.\n",
    "        \"\"\"\n",
    "        obj.add_properties(properties_metadata)\n",
    "\n",
    "        obj.add_default_units(units_metadata)"
   ]
  },
  {
   "cell_type": "markdown",
   "metadata": {},
   "source": [
    "# Step 5: Declare State Variables"
   ]
  },
  {
   "cell_type": "code",
   "execution_count": 9,
   "metadata": {},
   "outputs": [],
   "source": [
    "def add_state_variables(self):\n",
    "    self.flow_mol = Var(\n",
    "        initialize=1,\n",
    "        bounds=(1e-8, 1000),\n",
    "        units=pyunits.mol / pyunits.s,\n",
    "        doc=\"Molar flow rate\",\n",
    "    )\n",
    "    self.mole_frac_comp = Var(\n",
    "        self.component_list,\n",
    "        initialize=0.2,\n",
    "        bounds=(0, None),\n",
    "        units=pyunits.dimensionless,\n",
    "        doc=\"Component mole fractions\",\n",
    "    )\n",
    "    self.pressure = Var(\n",
    "        initialize=101325,\n",
    "        bounds=(101325, 400000),\n",
    "        units=pyunits.Pa,\n",
    "        doc=\"State pressure\",\n",
    "    )\n",
    "    self.temperature = Var(\n",
    "        initialize-298.15,\n",
    "        bounds=(298.15, 1500),\n",
    "        units=pyunits.K,\n",
    "        doc=\"State temperature\"\n",
    "    ) "
   ]
  },
  {
   "cell_type": "code",
   "execution_count": 10,
   "metadata": {},
   "outputs": [],
   "source": [
    "def return_state_var_dict(self):\n",
    "    return {\n",
    "        \"flow_mol\": self.flow_mol,\n",
    "        \"mole_frac_comp\": self.mole_frac_comp,\n",
    "        \"temperature\": self.temperature,\n",
    "        \"pressure\": self.pressure,\n",
    "    }"
   ]
  },
  {
   "cell_type": "markdown",
   "metadata": {},
   "source": [
    "# Step 6: Write Constraints and/or Expressions for Properties of Interest"
   ]
  },
  {
   "cell_type": "code",
   "execution_count": 11,
   "metadata": {},
   "outputs": [],
   "source": [
    "def add_molecular_weight_and_density(self):\n",
    "    self.mw_comp = Reference(self.params.mw_comp)\n",
    "\n",
    "    self.dens_mol = Var(\n",
    "        initialize=1, units=pyunits.mol / pyunits.m**3, doc=\"Mixture density\"\n",
    "    )\n",
    "\n",
    "    self.ideal_gas_eq = Constraint(\n",
    "        expr=self.pressure == const.gas_constant * self.temperature * self.dens_mol\n",
    "    )"
   ]
  },
  {
   "cell_type": "markdown",
   "metadata": {},
   "source": [
    "The last property of interest we need to declare is the mixture specific enthalpy. For an ideal gas, the mixture specific enthalpy can be calculated from the component specific enthalpies using the following equation:\n",
    "\n",
    "\\begin{equation*} \n",
    "h_{mix}= \\sum{x_j \\times h_j} \n",
    "\\end{equation*}\n",
    "\n",
    "where $x_j$ is the mole fraction of component $j$. Recall that for this example we are using the following correlation for the component specific enthalpies:\n",
    "\n",
    "\\begin{equation*} \n",
    "h_j – h_{j, ref}= A_j \\times (T-T_{ref}) + \\frac{B_j}{2}\\times (T^2-T_{ref}^2) + \\frac{C_j}{3}\\times (T^3-T_{ref}^3) + \\frac{D_j}{4}\\times (T^4-T_{ref}^4) \n",
    "\\end{equation*}"
   ]
  },
  {
   "cell_type": "code",
   "execution_count": 12,
   "metadata": {},
   "outputs": [],
   "source": [
    "def add_enth_mol(self):\n",
    "    def enth_rule(b):\n",
    "        params = self.params\n",
    "        T = self.temperature\n",
    "        Tr = params.temperature_ref\n",
    "        return sum(\n",
    "            self.mole_frac_comp[j]\n",
    "            * (\n",
    "                (params.cp_mol_ig_comp_coeff_D[j] / 4) * (T**4 - Tr**4)\n",
    "                + (params.cp_mol_ig_comp_coeff_C[j] / 3) * (T**3 - Tr**3)\n",
    "                + (params.cp_mol_ig_comp_coeff_B[j] / 2) * (T**2 - Tr**2)\n",
    "                + params.cp_mol_ig_comp_coeff_A[j] * (T - Tr)\n",
    "                + params.enth_mol_form_vap_comp_ref[j]\n",
    "            )\n",
    "            for j in self.component_list\n",
    "        )\n",
    "\n",
    "    self.enth_mol = Expression(rule=enth_rule)"
   ]
  },
  {
   "cell_type": "code",
   "execution_count": 13,
   "metadata": {},
   "outputs": [],
   "source": [
    "def add_mole_fraction_constraint(self):\n",
    "    if self.config.defined_state is False:\n",
    "        self.mole_fraction_constraint = Constraint(\n",
    "            expr=1e3 == sum(1e3 * self.mole_frac_comp[j] for j in self.component_list)\n",
    "        )"
   ]
  },
  {
   "cell_type": "markdown",
   "metadata": {},
   "source": [
    "# Step 7: Define an Initialization Routine"
   ]
  },
  {
   "cell_type": "code",
   "execution_count": 14,
   "metadata": {},
   "outputs": [],
   "source": [
    "def prepare_state(blk, state_args, state_vars_fixed):\n",
    "    # Fix state variables if not already fixed\n",
    "    if state_vars_fixed is False:\n",
    "        flags = fix_state_vars(blk, state_args)\n",
    "    else:\n",
    "        flags = None\n",
    "\n",
    "    # Deactivate sum of mole fractions constraint\n",
    "    for k in blk.keys():\n",
    "        if blk[k].config.defined_state is False:\n",
    "            blk[k].mole_fraction_constraint.deactivate()\n",
    "\n",
    "    # Check that degress of freedom are zero after fixing state vars\n",
    "    for k in blk.keys():\n",
    "        if degrees_of_freedom(blk[k]) != 0:\n",
    "            raise Exception(\n",
    "                \"State vars fixed but degrees of freedom\"\n",
    "                \"for state block is not zero during\"\n",
    "                \"initialization.\"\n",
    "            )\n",
    "    \n",
    "    return flags"
   ]
  },
  {
   "cell_type": "code",
   "execution_count": 16,
   "metadata": {},
   "outputs": [],
   "source": [
    "def initialize_state(blk, solver, init_log, solve_log):\n",
    "    # Check that there is something to solve for\n",
    "    free_vars = 0\n",
    "    for k in blk.keys():\n",
    "        free_vars += number_unifxed_variables(blk[k])\n",
    "    if free_vars > 0:\n",
    "        # If there are free variables, call the solver to initialize\n",
    "        try:\n",
    "            with idaeslog.solver_log(solve_log, idaeslog.DEBUG) as slc:\n",
    "                res = solve_indexed_blocks(solver, [blk], tee=True) # slc.tee\n",
    "        except:\n",
    "            res = None\n",
    "    else:\n",
    "        res = None\n",
    "\n",
    "    init_log.info(\"Properties Initialized {}.\".formate(idaeslog.condition(res)))\n",
    "        "
   ]
  },
  {
   "cell_type": "code",
   "execution_count": 17,
   "metadata": {},
   "outputs": [],
   "source": [
    "def restore_state(blk, flags, hold_state):\n",
    "    # Return state to initial conditions\n",
    "    if hold_state is True:\n",
    "        return flags\n",
    "    else:\n",
    "        blk.release_state(flags)"
   ]
  },
  {
   "cell_type": "code",
   "execution_count": 18,
   "metadata": {},
   "outputs": [],
   "source": [
    "def unfix_state(blk, flags, outlvl):\n",
    "    init_log = idaeslog.getInitLogger(blk.name, outlvl, tag=\"properties\")\n",
    "\n",
    "    # Reactivate sum of mole fractions constraint\n",
    "    for k in blk.keys():\n",
    "        if blk[k].config.defined_state is False:\n",
    "            blk[k].mole_fraction_constraint.activate()\n",
    "\n",
    "    if flags is not None:\n",
    "        # Unfix state variables\n",
    "        revert_state_vars(blk, flags)\n",
    "\n",
    "    init_log.info_high(\"State Released.\")"
   ]
  },
  {
   "cell_type": "markdown",
   "metadata": {},
   "source": [
    "## The StateBlock class"
   ]
  },
  {
   "cell_type": "code",
   "execution_count": 20,
   "metadata": {},
   "outputs": [],
   "source": [
    "class _HDAStateBlock(StateBlock):\n",
    "    def initialize(\n",
    "        blk,\n",
    "        state_args=None,\n",
    "        state_vars_fixed=False,\n",
    "        hold_state=False,\n",
    "        outlvl=idaeslog.NOTSET,\n",
    "        solver=None,\n",
    "        optarg=None,\n",
    "    ):\n",
    "\n",
    "        init_log = idaeslog.getInitLogger(blk.name, outlvl, tag=\"properties\")\n",
    "        solve_log = idaeslog.getSolverLogger(blk.name, outlvl, tag=\"properties\")\n",
    "\n",
    "        # Create solver\n",
    "        solver_obj = get_solver(solver, optarg)\n",
    "\n",
    "        flags = prepare_state(blk, state_args, state_vars_fixed)\n",
    "        initialize_state(blk, solver_obj, init_log, solve_log)\n",
    "        restore_state(blk, flags, hold_state)\n",
    "\n",
    "        init_log.info(\"Initialization Complete\")\n",
    "\n",
    "    def release_state(blk, flags, outlvl=idaeslog.NOTSET):\n",
    "        unfix_state(blk, flags, outlvl)"
   ]
  },
  {
   "cell_type": "markdown",
   "metadata": {},
   "source": []
  }
 ],
 "metadata": {
  "kernelspec": {
   "display_name": "IDAES_User",
   "language": "python",
   "name": "python3"
  },
  "language_info": {
   "codemirror_mode": {
    "name": "ipython",
    "version": 3
   },
   "file_extension": ".py",
   "mimetype": "text/x-python",
   "name": "python",
   "nbconvert_exporter": "python",
   "pygments_lexer": "ipython3",
   "version": "3.10.13"
  }
 },
 "nbformat": 4,
 "nbformat_minor": 2
}
