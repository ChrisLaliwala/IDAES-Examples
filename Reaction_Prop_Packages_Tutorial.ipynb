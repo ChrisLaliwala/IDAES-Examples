{
 "cells": [
  {
   "cell_type": "markdown",
   "metadata": {},
   "source": [
    "# Reaction Property Packages in IDAES"
   ]
  },
  {
   "cell_type": "code",
   "execution_count": 1,
   "metadata": {},
   "outputs": [],
   "source": [
    "# Import Pyomo libraries\n",
    "from pyomo.environ import Constraint, exp, Param, Set, units as pyunits, Var\n",
    "\n",
    "# Import IDAES cores\n",
    "from idaes.core import (\n",
    "    declare_process_block_class,\n",
    "    MaterialFlowBasis,\n",
    "    ReactionParameterBlock,\n",
    "    ReactionBlockDataBase,\n",
    "    ReactionBlockBase,\n",
    ")\n",
    "from idaes.core.util.constants import Constants as const\n",
    "import idaes.logger as idaeslog"
   ]
  },
  {
   "cell_type": "markdown",
   "metadata": {},
   "source": [
    "# Reaction Parameter Block defines:\n",
    "- Units of measurement\n",
    "- What reaction properties are supported and how they are implemented\n",
    "- All the global parameters necessary for calculating properties\n",
    "- A reference to the associated **Reaction Block** class, so that construction of the **Reaction Block** components can be automated from the **Reaction Parameter Block**\n"
   ]
  },
  {
   "cell_type": "markdown",
   "metadata": {},
   "source": [
    "## Step 1: Define units of measurement and property metadata"
   ]
  },
  {
   "cell_type": "code",
   "execution_count": null,
   "metadata": {},
   "outputs": [],
   "source": [
    "units_metadata = {\n",
    "    \"time\": pyunits.s,\n",
    "    \"length\": pyunits.m,\n",
    "    \"mass\": pyunits.kg,\n",
    "    \"amount\": pyunits.mol,\n",
    "    \"temperature\": pyunits.K,\n",
    "}\n",
    "\n",
    "properties_metadata = {\n",
    "    \"k_rxn\": {\"method\": None},\n",
    "    \"k_eq\": {\"method\": None},\n",
    "    \"reaction_rate\": {\"method\": None},\n",
    "}"
   ]
  }
 ],
 "metadata": {
  "kernelspec": {
   "display_name": "IDAES-Examples",
   "language": "python",
   "name": "python3"
  },
  "language_info": {
   "codemirror_mode": {
    "name": "ipython",
    "version": 3
   },
   "file_extension": ".py",
   "mimetype": "text/x-python",
   "name": "python",
   "nbconvert_exporter": "python",
   "pygments_lexer": "ipython3",
   "version": "3.10.13"
  }
 },
 "nbformat": 4,
 "nbformat_minor": 2
}
